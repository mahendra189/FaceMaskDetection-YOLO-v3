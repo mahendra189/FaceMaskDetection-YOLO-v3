{
  "nbformat": 4,
  "nbformat_minor": 0,
  "metadata": {
    "colab": {
      "name": "Untitled4.ipynb",
      "provenance": []
    },
    "kernelspec": {
      "name": "python3",
      "display_name": "Python 3"
    },
    "language_info": {
      "name": "python"
    },
    "accelerator": "GPU"
  },
  "cells": [
    {
      "cell_type": "markdown",
      "metadata": {
        "id": "FUb0gVpV2IFJ"
      },
      "source": [
        "#Face Mask Detection using yolo V3 "
      ]
    },
    {
      "cell_type": "markdown",
      "metadata": {
        "id": "_8z8WG722rAo"
      },
      "source": [
        "**1. Check the connected GPU version**"
      ]
    },
    {
      "cell_type": "code",
      "metadata": {
        "colab": {
          "base_uri": "https://localhost:8080/",
          "height": 74
        },
        "id": "aCfNu-EERHCn",
        "outputId": "0c4272a8-4682-4267-bc50-f48d83a23a2b"
      },
      "source": [
        "from IPython.display import HTML, clear_output\n",
        "from subprocess import getoutput\n",
        "s = getoutput('nvidia-smi')\n",
        "if 'K80' in s:gpu = 'K80'\n",
        "elif 'T4' in s:gpu = 'T4'\n",
        "elif 'P100' in s:gpu = 'P100'\n",
        "elif 'P4' in s:gpu = 'P4'\n",
        "display(HTML(f\"<h1>{gpu}</h1>\"))"
      ],
      "execution_count": 1,
      "outputs": [
        {
          "output_type": "display_data",
          "data": {
            "text/html": [
              "<h1>T4</h1>"
            ],
            "text/plain": [
              "<IPython.core.display.HTML object>"
            ]
          },
          "metadata": {
            "tags": []
          }
        }
      ]
    },
    {
      "cell_type": "markdown",
      "metadata": {
        "id": "G135ryWV4Tbg"
      },
      "source": [
        "**2. Mount the Drive**"
      ]
    },
    {
      "cell_type": "code",
      "metadata": {
        "colab": {
          "base_uri": "https://localhost:8080/"
        },
        "id": "UHYjeWgQRrp4",
        "outputId": "fe84430b-63fb-4f41-e3c5-86db772e45bc"
      },
      "source": [
        "from google.colab import drive\n",
        "\n",
        "drive.mount('/content/drive/')"
      ],
      "execution_count": 2,
      "outputs": [
        {
          "output_type": "stream",
          "text": [
            "Mounted at /content/drive/\n"
          ],
          "name": "stdout"
        }
      ]
    },
    {
      "cell_type": "markdown",
      "metadata": {
        "id": "gSx_JnXl3AJ8"
      },
      "source": [
        "**3. Clone the Darknet repository**"
      ]
    },
    {
      "cell_type": "code",
      "metadata": {
        "colab": {
          "base_uri": "https://localhost:8080/"
        },
        "id": "01IS6FsNRMcQ",
        "outputId": "bb73edf5-ed71-42d1-e30f-bca6986e3dbf"
      },
      "source": [
        "!git clone https://github.com/AlexeyAB/darknet"
      ],
      "execution_count": 3,
      "outputs": [
        {
          "output_type": "stream",
          "text": [
            "Cloning into 'darknet'...\n",
            "remote: Enumerating objects: 15298, done.\u001b[K\n",
            "remote: Total 15298 (delta 0), reused 0 (delta 0), pack-reused 15298\u001b[K\n",
            "Receiving objects: 100% (15298/15298), 13.68 MiB | 15.88 MiB/s, done.\n",
            "Resolving deltas: 100% (10398/10398), done.\n"
          ],
          "name": "stdout"
        }
      ]
    },
    {
      "cell_type": "markdown",
      "metadata": {
        "id": "a3k1m79_4c4e"
      },
      "source": [
        "**4. Compile Darknet**"
      ]
    },
    {
      "cell_type": "code",
      "metadata": {
        "id": "Ci1LaPk1RQ5U"
      },
      "source": [
        "%cd /content/darknet\n",
        "!sed -i 's/OPENCV=0/OPENCV=1/' Makefile\n",
        "!sed -i 's/GPU=0/GPU=1/' Makefile\n",
        "!sed -i 's/CUDNN=0/CUDNN=1/' Makefile\n",
        "!make"
      ],
      "execution_count": null,
      "outputs": []
    },
    {
      "cell_type": "markdown",
      "metadata": {
        "id": "Xc8W3WXc40yy"
      },
      "source": [
        "**5. Create a copy of yolov3.cfg file to avoid changes in original file.**"
      ]
    },
    {
      "cell_type": "code",
      "metadata": {
        "id": "0lV9DGGDRT9v"
      },
      "source": [
        "!cp cfg/yolov3.cfg cfg/yolov3_training.cfg"
      ],
      "execution_count": 5,
      "outputs": []
    },
    {
      "cell_type": "markdown",
      "metadata": {
        "id": "MUIotxqK5KmQ"
      },
      "source": [
        "**6. configuring the yolov3_training.cfg**<br>\n",
        "**classes = 2**\n",
        "<br>\n",
        "**filters= (classes + 5)*3 = 21**\n"
      ]
    },
    {
      "cell_type": "code",
      "metadata": {
        "id": "r3I5mf5kRXIi"
      },
      "source": [
        "!sed -i 's/batch=1/batch=64/' cfg/yolov3_training.cfg\n",
        "!sed -i 's/subdivisions=1/subdivisions=16/' cfg/yolov3_training.cfg\n",
        "!sed -i 's/max_batches = 500200/max_batches = 4000/' cfg/yolov3_training.cfg\n",
        "!sed -i '610 s@classes=80@classes=2@' cfg/yolov3_training.cfg\n",
        "!sed -i '696 s@classes=80@classes=2@' cfg/yolov3_training.cfg\n",
        "!sed -i '783 s@classes=80@classes=2@' cfg/yolov3_training.cfg\n",
        "!sed -i '603 s@filters=255@filters=21@' cfg/yolov3_training.cfg\n",
        "!sed -i '689 s@filters=255@filters=21@' cfg/yolov3_training.cfg\n",
        "!sed -i '776 s@filters=255@filters=21@' cfg/yolov3_training.cfg\n"
      ],
      "execution_count": 6,
      "outputs": []
    },
    {
      "cell_type": "markdown",
      "metadata": {
        "id": "RaKkB2ku6Vi3"
      },
      "source": [
        "**7. Creating a classes file**"
      ]
    },
    {
      "cell_type": "code",
      "metadata": {
        "id": "yT3reyySRZJA"
      },
      "source": [
        "!echo -e 'wearing Mask\\nNot Wearing Mask' >data/obj.names"
      ],
      "execution_count": 7,
      "outputs": []
    },
    {
      "cell_type": "markdown",
      "metadata": {
        "id": "w8SV3adK6nzt"
      },
      "source": [
        "**8. Creating a object data file**"
      ]
    },
    {
      "cell_type": "code",
      "metadata": {
        "id": "6-bRkdI_RbSb"
      },
      "source": [
        "!echo -e 'classes=2\\ntrain = data/train.txt\\nvalid=data/test.txt\\nnames=data/obj.names\\nbackup =  /content/drive/MyDrive/Object_Detection_yoloV3' > data/obj.data"
      ],
      "execution_count": 8,
      "outputs": []
    },
    {
      "cell_type": "markdown",
      "metadata": {
        "id": "Z5OiuhMO61j4"
      },
      "source": [
        "**9. Unzip the data into data/obj**"
      ]
    },
    {
      "cell_type": "code",
      "metadata": {
        "id": "N_JFFftqRdJZ"
      },
      "source": [
        "!mkdir data/obj\n",
        "!unzip /content/drive/MyDrive/images.zip -d data/obj\n",
        "\n"
      ],
      "execution_count": null,
      "outputs": []
    },
    {
      "cell_type": "markdown",
      "metadata": {
        "id": "fwbCnwsXRC8j"
      },
      "source": [
        "**Rename the 'data/obj/New folder' to 'data/obj/images'**"
      ]
    },
    {
      "cell_type": "code",
      "metadata": {
        "id": "scSZXWF4Q4Fq"
      },
      "source": [
        "import glob\n",
        "images_list = glob.glob(\"/content/darknet/data/obj/images/*.png\")\n",
        "with open(\"data/train.txt\", \"w\") as f:\n",
        "    f.write(\"\\n\".join(images_list))"
      ],
      "execution_count": 10,
      "outputs": []
    },
    {
      "cell_type": "markdown",
      "metadata": {
        "id": "XHSvjglc7Kb_"
      },
      "source": [
        "**10. Download pre-trained weights for Convolutional layer file**"
      ]
    },
    {
      "cell_type": "code",
      "metadata": {
        "colab": {
          "base_uri": "https://localhost:8080/"
        },
        "id": "Vt7tW58cSmQs",
        "outputId": "3292d6bc-23c2-4b3f-d58a-a91c61e9c455"
      },
      "source": [
        "!wget https://pjreddie.com/media/files/darknet53.conv.74"
      ],
      "execution_count": 14,
      "outputs": [
        {
          "output_type": "stream",
          "text": [
            "--2021-08-12 15:29:31--  https://pjreddie.com/media/files/darknet53.conv.74\n",
            "Resolving pjreddie.com (pjreddie.com)... 128.208.4.108\n",
            "Connecting to pjreddie.com (pjreddie.com)|128.208.4.108|:443... connected.\n",
            "HTTP request sent, awaiting response... 200 OK\n",
            "Length: 162482580 (155M) [application/octet-stream]\n",
            "Saving to: ‘darknet53.conv.74’\n",
            "\n",
            "darknet53.conv.74   100%[===================>] 154.96M  56.5MB/s    in 2.7s    \n",
            "\n",
            "2021-08-12 15:29:34 (56.5 MB/s) - ‘darknet53.conv.74’ saved [162482580/162482580]\n",
            "\n"
          ],
          "name": "stdout"
        }
      ]
    },
    {
      "cell_type": "markdown",
      "metadata": {
        "id": "iALdRiVS_BZr"
      },
      "source": [
        "**11. Train the model**"
      ]
    },
    {
      "cell_type": "code",
      "metadata": {
        "id": "whqO-MUG-7uq"
      },
      "source": [
        "!./darknet detector train data/obj.data cfg/yolov3_training.cfg darknet53.conv.74 -dont_show\n",
        "# Uncomment below and comment above to re-start your training from last saved weights\n",
        "#!./darknet detector train data/obj.data cfg/yolov3_training.cfg  /content/drive/MyDrive/Object_Detection_yoloV3/yolov3_training_last.weights -dont_show"
      ],
      "execution_count": null,
      "outputs": []
    },
    {
      "cell_type": "markdown",
      "metadata": {
        "id": "7cViK78Q7ej_"
      },
      "source": [
        "**11. mask detection from a video**<br>\n",
        "**Detects a mask wearing and not wearing faces from a video and store it in google drive.**"
      ]
    },
    {
      "cell_type": "code",
      "metadata": {
        "id": "sZUey3szTBbG"
      },
      "source": [
        "!./darknet detector demo  data/obj.data cfg/yolov3_training.cfg /content/drive/MyDrive/Object_Detection_yoloV3/yolov3_training_last.weights -dont_show  /content/video1.mp4 -i 0 -out_filename /content/drive/MyDrive/Object_Detection_yoloV3/predictions.avi"
      ],
      "execution_count": null,
      "outputs": []
    },
    {
      "cell_type": "markdown",
      "metadata": {
        "id": "gG64t7m58IbH"
      },
      "source": [
        "**12. Mask detection from Images**"
      ]
    },
    {
      "cell_type": "code",
      "metadata": {
        "id": "bMP9kKN08Vet"
      },
      "source": [
        "def imShow(path):\n",
        "  import cv2\n",
        "  import matplotlib.pyplot as plt\n",
        "  %matplotlib inline\n",
        "\n",
        "  image = cv2.imread(path)\n",
        "  height, width = image.shape[:2]\n",
        "  resized_image = cv2.resize(image,(3*width, 3*height), interpolation = cv2.INTER_CUBIC)\n",
        "\n",
        "  fig = plt.gcf()\n",
        "  fig.set_size_inches(18, 10)\n",
        "  plt.axis(\"off\")\n",
        "  plt.imshow(cv2.cvtColor(resized_image, cv2.COLOR_BGR2RGB))\n",
        "  plt.show()"
      ],
      "execution_count": 15,
      "outputs": []
    },
    {
      "cell_type": "code",
      "metadata": {
        "id": "Lk4ghIcZTVEy"
      },
      "source": [
        "!./darknet detector test data/obj.data /content/darknet/cfg/yolov3_training.cfg  /content/drive/MyDrive/Object_Detection_yoloV3/yolov3_training_last.weights /content/without-mask-UNI-3.jpg\n",
        "imShow('predictions.jpg')\n"
      ],
      "execution_count": null,
      "outputs": []
    }
  ]
}